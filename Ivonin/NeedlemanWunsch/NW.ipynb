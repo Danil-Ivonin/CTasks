{
 "cells": [
  {
   "cell_type": "code",
   "execution_count": 1,
   "metadata": {},
   "outputs": [],
   "source": [
    "import numpy as np\n",
    "import random\n",
    "from tqdm import tqdm"
   ]
  },
  {
   "cell_type": "code",
   "execution_count": 2,
   "metadata": {},
   "outputs": [],
   "source": [
    "def generate_sequence(length):\n",
    "    return ''.join(random.choice('ACGT') for _ in range(length))"
   ]
  },
  {
   "cell_type": "code",
   "execution_count": 3,
   "metadata": {},
   "outputs": [],
   "source": [
    "def write_sequences_to_file(file_name, seq_length, seq1, seq2):\n",
    "    with open(file_name, 'w') as file:\n",
    "        file.write(f\"{seq_length}\\n\")\n",
    "        file.write(f\"{seq1}\\n{seq2}\\n\")"
   ]
  },
  {
   "cell_type": "code",
   "execution_count": 4,
   "metadata": {},
   "outputs": [],
   "source": [
    "def needleman_wunsch(seq1, seq2, match=1, mismatch=-1, gap=-1):\n",
    "    # Инициализация матрицы\n",
    "    n = len(seq1)\n",
    "    m = len(seq2)\n",
    "    score_matrix = [[0 for j in range(m + 1)] for i in range(n + 1)]\n",
    "\n",
    "    # Заполнение первой строки и столбца (штрафы за пропуски)\n",
    "    for i in range(1, n + 1):\n",
    "        score_matrix[i][0] = i * gap\n",
    "    for j in range(1, m + 1):\n",
    "        score_matrix[0][j] = j * gap\n",
    "\n",
    "    # Заполнение матрицы оценок\n",
    "    for i in tqdm(range(1, n + 1)):\n",
    "        for j in range(1, m + 1):\n",
    "            match_score = match if seq1[i - 1] == seq2[j - 1] else mismatch\n",
    "            score_matrix[i][j] = max(\n",
    "                score_matrix[i - 1][j - 1] + match_score,  # Совпадение/замена\n",
    "                score_matrix[i - 1][j] + gap,             # Пропуск в seq2\n",
    "                score_matrix[i][j - 1] + gap              # Пропуск в seq1\n",
    "            )\n",
    "\n",
    "    # Обратный проход для восстановления выравнивания\n",
    "    aligned_seq1 = []\n",
    "    aligned_seq2 = []\n",
    "    i, j = n, m\n",
    "\n",
    "    while i > 0 and j > 0:\n",
    "        current_score = score_matrix[i][j]\n",
    "        match_score = match if seq1[i - 1] == seq2[j - 1] else mismatch\n",
    "\n",
    "        if current_score == score_matrix[i - 1][j - 1] + match_score:\n",
    "            aligned_seq1.append(seq1[i - 1])\n",
    "            aligned_seq2.append(seq2[j - 1])\n",
    "            i -= 1\n",
    "            j -= 1\n",
    "        elif current_score == score_matrix[i - 1][j] + gap:\n",
    "            aligned_seq1.append(seq1[i - 1])\n",
    "            aligned_seq2.append('-')\n",
    "            i -= 1\n",
    "        else:\n",
    "            aligned_seq1.append('-')\n",
    "            aligned_seq2.append(seq2[j - 1])\n",
    "            j -= 1\n",
    "\n",
    "    # Добавляем оставшиеся символы\n",
    "    while i > 0:\n",
    "        aligned_seq1.append(seq1[i - 1])\n",
    "        aligned_seq2.append('-')\n",
    "        i -= 1\n",
    "    while j > 0:\n",
    "        aligned_seq1.append('-')\n",
    "        aligned_seq2.append(seq2[j - 1])\n",
    "        j -= 1\n",
    "\n",
    "    # Разворачиваем выравненные последовательности\n",
    "    aligned_seq1 = ''.join(reversed(aligned_seq1))\n",
    "    aligned_seq2 = ''.join(reversed(aligned_seq2))\n",
    "\n",
    "    return aligned_seq1, aligned_seq2, score_matrix[-1][-1]\n"
   ]
  },
  {
   "cell_type": "code",
   "execution_count": 5,
   "metadata": {},
   "outputs": [],
   "source": [
    "seq_length = 2000\n",
    "\n",
    "seq1 = generate_sequence(seq_length)\n",
    "seq2 = generate_sequence(seq_length)\n",
    "\n",
    "file_name = \"sequences.txt\"\n",
    "write_sequences_to_file(file_name, seq_length, seq1, seq2)"
   ]
  },
  {
   "cell_type": "code",
   "execution_count": 6,
   "metadata": {},
   "outputs": [
    {
     "name": "stderr",
     "output_type": "stream",
     "text": [
      "100%|██████████| 1000/1000 [00:00<00:00, 2717.32it/s]"
     ]
    },
    {
     "name": "stdout",
     "output_type": "stream",
     "text": [
      "Выравнивание 1: -A-C-GCAGTATCTC-A----GCAGAC---GG-CGATGGCTTGATAC-CTTTA-C-TAATTGGCATCTTCCGAACTCTTA-CACA-ACTGGGA-AAC--G-GCG-CCTCAGCCGCGGGCAG-C-AA--ACCCCCCTTCATGT-T-TG-GCTA-CCCTTATGGGCCACCAAT-ATACTTAAATGTAAAT---A-CATGA-C-TTAGGAGC--A-TGTATACTTTACTGTCCCGAGTTTCCGAGA-CACTGTGCGCCTGTAATCTGTCCA--TA-C-C-A---C-G-ACTCCAGGCTCGGACCA-G-AG--AGCCCTTAG-C-ATTGTG--CCTATTTTCTCGCTACTTTCACGTCCGG-CACACA-CGCACAT--A-TT-AGTACCTCCTTGGTCCCGTCAAAT--CCAGGGTTAGATTAAACGCCCCATCGCTTAGAGGGCTGGAGC-CGGATAAGACAGACC---GTACGACCT-CCGGAGC-ACTTGTAGTCGTAAATTCGGCGGAAACGC-GA--AAGTAC-G--AGCAATGTTAATTT-G-C-CTAA-A-GACT-AAC-GGG--AC-TTCAGACTTGGCAGGGGT--CCCT-GCCCGAGGGCTAGTTCAAGGATAAATGA-GAGTACGCGGTTAGGCACCGTGACAGCGCCTTGATGGGAT-TAGAGTGCGCTATCGATTGCCTCTACGG-CGTGGTACTGCATGGCCTCTTAGACAGGGGTA-CGACCTGGGTGCT-ATCCGA-TC-CACCGAGAGTCATGCGTGC-AGCGAT-CTATA-T-C-AACCAC-CCGCCGAAGCTTTCAGCCACCTTGCCAGCGACC-C-CTGAAGCTTCGCGTCTGCTATAG-GCCA--TAT-GGTCGTCACCTGCCAGCGTTTGAAGT-TTGCAGCTCAGGTTTA--T-----AGCTAACT--A-----ACACCGGCCTTCA-G-ATCAATATGTGG---GCGTATCAACGAC-AT-TTAA-----AAATA-T----TG-ATG-TGATGAC-ATAAA-TC-ACA-GTTTTGACGAAACTACGCTC-TGGCGCACAACCTAGCATG-TATGT--GTGTCGG-T-AAACTATTCT-AGTTTAAG-GCATCCCATTCAACGACAC-CCACGAACTGCATTGGAACGAGTAT-CTTCAG-\n",
      "Выравнивание 2: CACCTG-AG-ATCTCGATTGCGCA-ACAAAGGTCGA--GCATCA-GCGGTTTAGCGCAACCGG--T-AGCCG--CGCTTATCA-ATAATCGTACCACTAGAGGGTCC-CTGAAGTGAGAAGCCAAAGTATTAGCGTT-ATATATAAGAG-AAGGAGTTTTTGG-AAGC-ATGA-A-TTGGGGGT-AATGCGACCGTCACCACTAGAAGCGGAGTG-AAAC-GTACGGTTTTG-GTAAATGACATCAC-GTTTG-AT-TAATCT-TCCACCAAGCTCTACTTCGGCTCTCCA--CT-GTACCATGCGGTAAACCC--AGCCGAGTGGGCTCCAAGGATC-C-AT-C-GGCACCTCCGGAGAAATATCGGACGTCCACTTCTGT--CTACTTGGT-ACG-CGACTGCCCAGGG-CA-A-CCAATGCGTCA-C-C---G-GAGATCGATCGC-GAT-AG-C-CTCCGGTGTAAG-CCTGCC---GCTA-TT-T-GTC-CAGA-GCGGCGG-CTCCCTGATTTA-TCCTGTTAGC---CTT-ATTTGGTCAC-AACATGGTTGACCAGGGCAACATT-TGTC-T-GCATGGATAACCCTAG-CC-A--GCT--CTC---GTTAAATTACGAG--C-C--TTACG-ACC--G-CACCACC--GAAGGG-TCT-GA-T--G-TTTCCA-T--C-C-ACGGAAGTGG--C-G-AAGG-GGGTTCGATTTTTGTAGCG-TC-AAGTTCTAAT--GAGTCGC-CCTCG-G---TG-G-ACAACCGGTACAATAGTGCAAACCACTCCTTGGTAG-ATTCAGATA-CTTG---GCGGCCTCAAT-ATGCTTAGC-T-AG-TAAAGAGGCATTTCTACG-CGTCACC-G--GGC-TTTGATGTGTT-CAG-GGAGCTTTAGCTGCGGCTGCTAACTGGAGTTTTAAACCGGGATGGACGAACCCA-ATGTGGATAGCTTAT--GGGACTCTCTTAATCTGCGCATACTGCCCGGCATGCTAATAACAACAAAGGCGACAGGATTT-A--AGA-TTC-CTCATGGCGTTCATTGTGGAAGGAGAT-TCACTG-CGGCTGCGACTGTGCTCA---AAAGTG--TTGGAGGCAACTACTCTCTAAG-AC-G-A--GG-GCTA-TATGC--C-GC\n",
      "Итоговая оценка: 98\n"
     ]
    },
    {
     "name": "stderr",
     "output_type": "stream",
     "text": [
      "\n"
     ]
    }
   ],
   "source": [
    "result = needleman_wunsch(seq1, seq2)\n",
    "print(\"Выравнивание 1:\", result[0])\n",
    "print(\"Выравнивание 2:\", result[1])\n",
    "print(\"Итоговая оценка:\", result[2])\n"
   ]
  }
 ],
 "metadata": {
  "kernelspec": {
   "display_name": "Python 3",
   "language": "python",
   "name": "python3"
  },
  "language_info": {
   "codemirror_mode": {
    "name": "ipython",
    "version": 3
   },
   "file_extension": ".py",
   "mimetype": "text/x-python",
   "name": "python",
   "nbconvert_exporter": "python",
   "pygments_lexer": "ipython3",
   "version": "3.13.0"
  }
 },
 "nbformat": 4,
 "nbformat_minor": 2
}
