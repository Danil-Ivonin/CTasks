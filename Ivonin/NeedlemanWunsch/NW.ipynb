{
 "cells": [
  {
   "cell_type": "code",
   "execution_count": 17,
   "metadata": {},
   "outputs": [],
   "source": [
    "import numpy as np"
   ]
  },
  {
   "cell_type": "code",
   "execution_count": 18,
   "metadata": {},
   "outputs": [],
   "source": [
    "def needleman_wunsch(seq1, seq2, match=1, mismatch=-1, gap=-1):\n",
    "    # Инициализация матрицы\n",
    "    n = len(seq1)\n",
    "    m = len(seq2)\n",
    "    score_matrix = [[0 for j in range(m + 1)] for i in range(n + 1)]\n",
    "\n",
    "    # Заполнение первой строки и столбца (штрафы за пропуски)\n",
    "    for i in range(1, n + 1):\n",
    "        score_matrix[i][0] = i * gap\n",
    "    for j in range(1, m + 1):\n",
    "        score_matrix[0][j] = j * gap\n",
    "\n",
    "    # Заполнение матрицы оценок\n",
    "    for i in range(1, n + 1):\n",
    "        for j in range(1, m + 1):\n",
    "            match_score = match if seq1[i - 1] == seq2[j - 1] else mismatch\n",
    "            score_matrix[i][j] = max(\n",
    "                score_matrix[i - 1][j - 1] + match_score,  # Совпадение/замена\n",
    "                score_matrix[i - 1][j] + gap,             # Пропуск в seq2\n",
    "                score_matrix[i][j - 1] + gap              # Пропуск в seq1\n",
    "            )\n",
    "\n",
    "    # Обратный проход для восстановления выравнивания\n",
    "    aligned_seq1 = []\n",
    "    aligned_seq2 = []\n",
    "    i, j = n, m\n",
    "\n",
    "    while i > 0 and j > 0:\n",
    "        current_score = score_matrix[i][j]\n",
    "        match_score = match if seq1[i - 1] == seq2[j - 1] else mismatch\n",
    "\n",
    "        if current_score == score_matrix[i - 1][j - 1] + match_score:\n",
    "            aligned_seq1.append(seq1[i - 1])\n",
    "            aligned_seq2.append(seq2[j - 1])\n",
    "            i -= 1\n",
    "            j -= 1\n",
    "        elif current_score == score_matrix[i - 1][j] + gap:\n",
    "            aligned_seq1.append(seq1[i - 1])\n",
    "            aligned_seq2.append('-')\n",
    "            i -= 1\n",
    "        else:\n",
    "            aligned_seq1.append('-')\n",
    "            aligned_seq2.append(seq2[j - 1])\n",
    "            j -= 1\n",
    "\n",
    "    # Добавляем оставшиеся символы\n",
    "    while i > 0:\n",
    "        aligned_seq1.append(seq1[i - 1])\n",
    "        aligned_seq2.append('-')\n",
    "        i -= 1\n",
    "    while j > 0:\n",
    "        aligned_seq1.append('-')\n",
    "        aligned_seq2.append(seq2[j - 1])\n",
    "        j -= 1\n",
    "\n",
    "    # Разворачиваем выравненные последовательности\n",
    "    aligned_seq1 = ''.join(reversed(aligned_seq1))\n",
    "    aligned_seq2 = ''.join(reversed(aligned_seq2))\n",
    "\n",
    "    return aligned_seq1, aligned_seq2, score_matrix\n"
   ]
  },
  {
   "cell_type": "code",
   "execution_count": 23,
   "metadata": {},
   "outputs": [
    {
     "name": "stdout",
     "output_type": "stream",
     "text": [
      "Выравнивание 1: -GCT\n",
      "Выравнивание 2: ABC-\n",
      "[[ 0 -1 -2 -3]\n",
      " [-1 -1 -2 -3]\n",
      " [-2 -2 -2 -1]\n",
      " [-3 -3 -3 -2]]\n"
     ]
    }
   ],
   "source": [
    "# Пример использования\n",
    "seq1 = \"GCT\"\n",
    "seq2 = \"GCA\"\n",
    "result = needleman_wunsch(seq1, seq2)\n",
    "print(\"Выравнивание 1:\", result[0])\n",
    "print(\"Выравнивание 2:\", result[1])\n",
    "print(np.array(result[2]))\n"
   ]
  },
  {
   "cell_type": "code",
   "execution_count": null,
   "metadata": {},
   "outputs": [],
   "source": []
  }
 ],
 "metadata": {
  "kernelspec": {
   "display_name": "Python 3",
   "language": "python",
   "name": "python3"
  },
  "language_info": {
   "codemirror_mode": {
    "name": "ipython",
    "version": 3
   },
   "file_extension": ".py",
   "mimetype": "text/x-python",
   "name": "python",
   "nbconvert_exporter": "python",
   "pygments_lexer": "ipython3",
   "version": "3.13.0"
  }
 },
 "nbformat": 4,
 "nbformat_minor": 2
}
