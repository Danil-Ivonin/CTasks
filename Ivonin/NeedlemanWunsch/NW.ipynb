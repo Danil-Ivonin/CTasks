{
 "cells": [
  {
   "cell_type": "code",
   "execution_count": 96,
   "metadata": {},
   "outputs": [],
   "source": [
    "import numpy as np\n",
    "import random\n",
    "from tqdm import tqdm"
   ]
  },
  {
   "cell_type": "code",
   "execution_count": 97,
   "metadata": {},
   "outputs": [],
   "source": [
    "def generate_sequence(length):\n",
    "    return ''.join(random.choice('ACGT') for _ in range(length))"
   ]
  },
  {
   "cell_type": "code",
   "execution_count": 98,
   "metadata": {},
   "outputs": [],
   "source": [
    "def write_sequences_to_file(file_name, seq_length, seq1, seq2):\n",
    "    with open(file_name, 'w') as file:\n",
    "        file.write(f\"{seq_length}\\n\")\n",
    "        file.write(f\"{seq1}\\n{seq2}\\n\")"
   ]
  },
  {
   "cell_type": "code",
   "execution_count": 99,
   "metadata": {},
   "outputs": [],
   "source": [
    "def needleman_wunsch(seq1, seq2, match=1, mismatch=-1, gap=-1):\n",
    "    # Инициализация матрицы\n",
    "    n = len(seq1)\n",
    "    m = len(seq2)\n",
    "    score_matrix = [[0 for j in range(m + 1)] for i in range(n + 1)]\n",
    "\n",
    "    # Заполнение первой строки и столбца (штрафы за пропуски)\n",
    "    for i in range(1, n + 1):\n",
    "        score_matrix[i][0] = i * gap\n",
    "    for j in range(1, m + 1):\n",
    "        score_matrix[0][j] = j * gap\n",
    "\n",
    "    # Заполнение матрицы оценок\n",
    "    for i in tqdm(range(1, n + 1)):\n",
    "        for j in range(1, m + 1):\n",
    "            match_score = match if seq1[i - 1] == seq2[j - 1] else mismatch\n",
    "            score_matrix[i][j] = max(\n",
    "                score_matrix[i - 1][j - 1] + match_score,  # Совпадение/замена\n",
    "                score_matrix[i - 1][j] + gap,             # Пропуск в seq2\n",
    "                score_matrix[i][j - 1] + gap              # Пропуск в seq1\n",
    "            )\n",
    "\n",
    "    # Обратный проход для восстановления выравнивания\n",
    "    aligned_seq1 = []\n",
    "    aligned_seq2 = []\n",
    "    i, j = n, m\n",
    "\n",
    "    while i > 0 and j > 0:\n",
    "        current_score = score_matrix[i][j]\n",
    "        match_score = match if seq1[i - 1] == seq2[j - 1] else mismatch\n",
    "\n",
    "        if current_score == score_matrix[i - 1][j - 1] + match_score:\n",
    "            aligned_seq1.append(seq1[i - 1])\n",
    "            aligned_seq2.append(seq2[j - 1])\n",
    "            i -= 1\n",
    "            j -= 1\n",
    "        elif current_score == score_matrix[i - 1][j] + gap:\n",
    "            aligned_seq1.append(seq1[i - 1])\n",
    "            aligned_seq2.append('-')\n",
    "            i -= 1\n",
    "        else:\n",
    "            aligned_seq1.append('-')\n",
    "            aligned_seq2.append(seq2[j - 1])\n",
    "            j -= 1\n",
    "\n",
    "    # Добавляем оставшиеся символы\n",
    "    while i > 0:\n",
    "        aligned_seq1.append(seq1[i - 1])\n",
    "        aligned_seq2.append('-')\n",
    "        i -= 1\n",
    "    while j > 0:\n",
    "        aligned_seq1.append('-')\n",
    "        aligned_seq2.append(seq2[j - 1])\n",
    "        j -= 1\n",
    "\n",
    "    # Разворачиваем выравненные последовательности\n",
    "    aligned_seq1 = ''.join(reversed(aligned_seq1))\n",
    "    aligned_seq2 = ''.join(reversed(aligned_seq2))\n",
    "\n",
    "    return aligned_seq1, aligned_seq2, score_matrix[-1][-1]\n"
   ]
  },
  {
   "cell_type": "code",
   "execution_count": 100,
   "metadata": {},
   "outputs": [],
   "source": [
    "seq_length = 5000\n",
    "\n",
    "seq1 = generate_sequence(seq_length)\n",
    "seq2 = generate_sequence(seq_length)\n",
    "\n",
    "file_name = \"sequences.txt\"\n",
    "write_sequences_to_file(file_name, seq_length, seq1, seq2)"
   ]
  },
  {
   "cell_type": "code",
   "execution_count": 101,
   "metadata": {},
   "outputs": [
    {
     "name": "stderr",
     "output_type": "stream",
     "text": [
      " 43%|████▎     | 4304/10000 [00:13<00:18, 315.30it/s]\n"
     ]
    },
    {
     "ename": "KeyboardInterrupt",
     "evalue": "",
     "output_type": "error",
     "traceback": [
      "\u001b[1;31m---------------------------------------------------------------------------\u001b[0m",
      "\u001b[1;31mKeyboardInterrupt\u001b[0m                         Traceback (most recent call last)",
      "Cell \u001b[1;32mIn[101], line 1\u001b[0m\n\u001b[1;32m----> 1\u001b[0m result \u001b[38;5;241m=\u001b[39m \u001b[43mneedleman_wunsch\u001b[49m\u001b[43m(\u001b[49m\u001b[43mseq1\u001b[49m\u001b[43m,\u001b[49m\u001b[43m \u001b[49m\u001b[43mseq2\u001b[49m\u001b[43m)\u001b[49m\n\u001b[0;32m      2\u001b[0m \u001b[38;5;66;03m# print(\"Выравнивание 1:\", result[0])\u001b[39;00m\n\u001b[0;32m      3\u001b[0m \u001b[38;5;66;03m# print(\"Выравнивание 2:\", result[1])\u001b[39;00m\n\u001b[0;32m      4\u001b[0m \u001b[38;5;28mprint\u001b[39m(\u001b[38;5;124m\"\u001b[39m\u001b[38;5;124mИтоговая оценка:\u001b[39m\u001b[38;5;124m\"\u001b[39m, result[\u001b[38;5;241m2\u001b[39m])\n",
      "Cell \u001b[1;32mIn[99], line 17\u001b[0m, in \u001b[0;36mneedleman_wunsch\u001b[1;34m(seq1, seq2, match, mismatch, gap)\u001b[0m\n\u001b[0;32m     15\u001b[0m     \u001b[38;5;28;01mfor\u001b[39;00m j \u001b[38;5;129;01min\u001b[39;00m \u001b[38;5;28mrange\u001b[39m(\u001b[38;5;241m1\u001b[39m, m \u001b[38;5;241m+\u001b[39m \u001b[38;5;241m1\u001b[39m):\n\u001b[0;32m     16\u001b[0m         match_score \u001b[38;5;241m=\u001b[39m match \u001b[38;5;28;01mif\u001b[39;00m seq1[i \u001b[38;5;241m-\u001b[39m \u001b[38;5;241m1\u001b[39m] \u001b[38;5;241m==\u001b[39m seq2[j \u001b[38;5;241m-\u001b[39m \u001b[38;5;241m1\u001b[39m] \u001b[38;5;28;01melse\u001b[39;00m mismatch\n\u001b[1;32m---> 17\u001b[0m         score_matrix[i][j] \u001b[38;5;241m=\u001b[39m \u001b[38;5;28mmax\u001b[39m(\n\u001b[0;32m     18\u001b[0m             score_matrix[i \u001b[38;5;241m-\u001b[39m \u001b[38;5;241m1\u001b[39m][j \u001b[38;5;241m-\u001b[39m \u001b[38;5;241m1\u001b[39m] \u001b[38;5;241m+\u001b[39m match_score,  \u001b[38;5;66;03m# Совпадение/замена\u001b[39;00m\n\u001b[0;32m     19\u001b[0m             score_matrix[i \u001b[38;5;241m-\u001b[39m \u001b[38;5;241m1\u001b[39m][j] \u001b[38;5;241m+\u001b[39m gap,             \u001b[38;5;66;03m# Пропуск в seq2\u001b[39;00m\n\u001b[0;32m     20\u001b[0m             score_matrix[i][j \u001b[38;5;241m-\u001b[39m \u001b[38;5;241m1\u001b[39m] \u001b[38;5;241m+\u001b[39m gap              \u001b[38;5;66;03m# Пропуск в seq1\u001b[39;00m\n\u001b[0;32m     21\u001b[0m         )\n\u001b[0;32m     23\u001b[0m \u001b[38;5;66;03m# Обратный проход для восстановления выравнивания\u001b[39;00m\n\u001b[0;32m     24\u001b[0m aligned_seq1 \u001b[38;5;241m=\u001b[39m []\n",
      "\u001b[1;31mKeyboardInterrupt\u001b[0m: "
     ]
    }
   ],
   "source": [
    "result = needleman_wunsch(seq1, seq2)\n",
    "# print(\"Выравнивание 1:\", result[0])\n",
    "# print(\"Выравнивание 2:\", result[1])\n",
    "print(\"Итоговая оценка:\", result[2])\n"
   ]
  }
 ],
 "metadata": {
  "kernelspec": {
   "display_name": "Python 3",
   "language": "python",
   "name": "python3"
  },
  "language_info": {
   "codemirror_mode": {
    "name": "ipython",
    "version": 3
   },
   "file_extension": ".py",
   "mimetype": "text/x-python",
   "name": "python",
   "nbconvert_exporter": "python",
   "pygments_lexer": "ipython3",
   "version": "3.13.0"
  }
 },
 "nbformat": 4,
 "nbformat_minor": 2
}
